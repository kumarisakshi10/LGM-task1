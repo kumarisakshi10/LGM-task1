{
  "nbformat": 4,
  "nbformat_minor": 0,
  "metadata": {
    "colab": {
      "provenance": [],
      "authorship_tag": "ABX9TyP77Xf+dRFjgtfoZW8KBwcO",
      "include_colab_link": true
    },
    "kernelspec": {
      "name": "python3",
      "display_name": "Python 3"
    },
    "language_info": {
      "name": "python"
    }
  },
  "cells": [
    {
      "cell_type": "markdown",
      "metadata": {
        "id": "view-in-github",
        "colab_type": "text"
      },
      "source": [
        "<a href=\"https://colab.research.google.com/github/kumarisakshi10/LGM-task1/blob/main/Stock_market_prediction.ipynb\" target=\"_parent\"><img src=\"https://colab.research.google.com/assets/colab-badge.svg\" alt=\"Open In Colab\"/></a>"
      ]
    },
    {
      "cell_type": "code",
      "execution_count": 35,
      "metadata": {
        "id": "gIB-KFzh0wvR"
      },
      "outputs": [],
      "source": [
        "import numpy as np\n",
        "import math\n",
        "import matplotlib.pyplot as plt\n",
        "import pandas as pd\n",
        "import seaborn as sns"
      ]
    },
    {
      "cell_type": "code",
      "source": [
        "csv_url = \"https://raw.githubusercontent.com/mwitiderrick/stockprice/master/NSE-TATAGLOBAL.csv\"\n",
        "stk_df= pd.read_csv(csv_url)\n",
        "stk_df.head()"
      ],
      "metadata": {
        "colab": {
          "base_uri": "https://localhost:8080/",
          "height": 206
        },
        "id": "L9cmeKWRFAIc",
        "outputId": "9a70a0c2-1bc4-4143-c5c4-fc5250c5706b"
      },
      "execution_count": 36,
      "outputs": [
        {
          "output_type": "execute_result",
          "data": {
            "text/plain": [
              "         Date    Open    High     Low    Last   Close  Total Trade Quantity  \\\n",
              "0  2018-09-28  234.05  235.95  230.20  233.50  233.75               3069914   \n",
              "1  2018-09-27  234.55  236.80  231.10  233.80  233.25               5082859   \n",
              "2  2018-09-26  240.00  240.00  232.50  235.00  234.25               2240909   \n",
              "3  2018-09-25  233.30  236.75  232.00  236.25  236.10               2349368   \n",
              "4  2018-09-24  233.55  239.20  230.75  234.00  233.30               3423509   \n",
              "\n",
              "   Turnover (Lacs)  \n",
              "0          7162.35  \n",
              "1         11859.95  \n",
              "2          5248.60  \n",
              "3          5503.90  \n",
              "4          7999.55  "
            ],
            "text/html": [
              "\n",
              "  <div id=\"df-2514c4a6-cbf4-4da2-a69c-29f0b150e51b\">\n",
              "    <div class=\"colab-df-container\">\n",
              "      <div>\n",
              "<style scoped>\n",
              "    .dataframe tbody tr th:only-of-type {\n",
              "        vertical-align: middle;\n",
              "    }\n",
              "\n",
              "    .dataframe tbody tr th {\n",
              "        vertical-align: top;\n",
              "    }\n",
              "\n",
              "    .dataframe thead th {\n",
              "        text-align: right;\n",
              "    }\n",
              "</style>\n",
              "<table border=\"1\" class=\"dataframe\">\n",
              "  <thead>\n",
              "    <tr style=\"text-align: right;\">\n",
              "      <th></th>\n",
              "      <th>Date</th>\n",
              "      <th>Open</th>\n",
              "      <th>High</th>\n",
              "      <th>Low</th>\n",
              "      <th>Last</th>\n",
              "      <th>Close</th>\n",
              "      <th>Total Trade Quantity</th>\n",
              "      <th>Turnover (Lacs)</th>\n",
              "    </tr>\n",
              "  </thead>\n",
              "  <tbody>\n",
              "    <tr>\n",
              "      <th>0</th>\n",
              "      <td>2018-09-28</td>\n",
              "      <td>234.05</td>\n",
              "      <td>235.95</td>\n",
              "      <td>230.20</td>\n",
              "      <td>233.50</td>\n",
              "      <td>233.75</td>\n",
              "      <td>3069914</td>\n",
              "      <td>7162.35</td>\n",
              "    </tr>\n",
              "    <tr>\n",
              "      <th>1</th>\n",
              "      <td>2018-09-27</td>\n",
              "      <td>234.55</td>\n",
              "      <td>236.80</td>\n",
              "      <td>231.10</td>\n",
              "      <td>233.80</td>\n",
              "      <td>233.25</td>\n",
              "      <td>5082859</td>\n",
              "      <td>11859.95</td>\n",
              "    </tr>\n",
              "    <tr>\n",
              "      <th>2</th>\n",
              "      <td>2018-09-26</td>\n",
              "      <td>240.00</td>\n",
              "      <td>240.00</td>\n",
              "      <td>232.50</td>\n",
              "      <td>235.00</td>\n",
              "      <td>234.25</td>\n",
              "      <td>2240909</td>\n",
              "      <td>5248.60</td>\n",
              "    </tr>\n",
              "    <tr>\n",
              "      <th>3</th>\n",
              "      <td>2018-09-25</td>\n",
              "      <td>233.30</td>\n",
              "      <td>236.75</td>\n",
              "      <td>232.00</td>\n",
              "      <td>236.25</td>\n",
              "      <td>236.10</td>\n",
              "      <td>2349368</td>\n",
              "      <td>5503.90</td>\n",
              "    </tr>\n",
              "    <tr>\n",
              "      <th>4</th>\n",
              "      <td>2018-09-24</td>\n",
              "      <td>233.55</td>\n",
              "      <td>239.20</td>\n",
              "      <td>230.75</td>\n",
              "      <td>234.00</td>\n",
              "      <td>233.30</td>\n",
              "      <td>3423509</td>\n",
              "      <td>7999.55</td>\n",
              "    </tr>\n",
              "  </tbody>\n",
              "</table>\n",
              "</div>\n",
              "      <button class=\"colab-df-convert\" onclick=\"convertToInteractive('df-2514c4a6-cbf4-4da2-a69c-29f0b150e51b')\"\n",
              "              title=\"Convert this dataframe to an interactive table.\"\n",
              "              style=\"display:none;\">\n",
              "        \n",
              "  <svg xmlns=\"http://www.w3.org/2000/svg\" height=\"24px\"viewBox=\"0 0 24 24\"\n",
              "       width=\"24px\">\n",
              "    <path d=\"M0 0h24v24H0V0z\" fill=\"none\"/>\n",
              "    <path d=\"M18.56 5.44l.94 2.06.94-2.06 2.06-.94-2.06-.94-.94-2.06-.94 2.06-2.06.94zm-11 1L8.5 8.5l.94-2.06 2.06-.94-2.06-.94L8.5 2.5l-.94 2.06-2.06.94zm10 10l.94 2.06.94-2.06 2.06-.94-2.06-.94-.94-2.06-.94 2.06-2.06.94z\"/><path d=\"M17.41 7.96l-1.37-1.37c-.4-.4-.92-.59-1.43-.59-.52 0-1.04.2-1.43.59L10.3 9.45l-7.72 7.72c-.78.78-.78 2.05 0 2.83L4 21.41c.39.39.9.59 1.41.59.51 0 1.02-.2 1.41-.59l7.78-7.78 2.81-2.81c.8-.78.8-2.07 0-2.86zM5.41 20L4 18.59l7.72-7.72 1.47 1.35L5.41 20z\"/>\n",
              "  </svg>\n",
              "      </button>\n",
              "      \n",
              "  <style>\n",
              "    .colab-df-container {\n",
              "      display:flex;\n",
              "      flex-wrap:wrap;\n",
              "      gap: 12px;\n",
              "    }\n",
              "\n",
              "    .colab-df-convert {\n",
              "      background-color: #E8F0FE;\n",
              "      border: none;\n",
              "      border-radius: 50%;\n",
              "      cursor: pointer;\n",
              "      display: none;\n",
              "      fill: #1967D2;\n",
              "      height: 32px;\n",
              "      padding: 0 0 0 0;\n",
              "      width: 32px;\n",
              "    }\n",
              "\n",
              "    .colab-df-convert:hover {\n",
              "      background-color: #E2EBFA;\n",
              "      box-shadow: 0px 1px 2px rgba(60, 64, 67, 0.3), 0px 1px 3px 1px rgba(60, 64, 67, 0.15);\n",
              "      fill: #174EA6;\n",
              "    }\n",
              "\n",
              "    [theme=dark] .colab-df-convert {\n",
              "      background-color: #3B4455;\n",
              "      fill: #D2E3FC;\n",
              "    }\n",
              "\n",
              "    [theme=dark] .colab-df-convert:hover {\n",
              "      background-color: #434B5C;\n",
              "      box-shadow: 0px 1px 3px 1px rgba(0, 0, 0, 0.15);\n",
              "      filter: drop-shadow(0px 1px 2px rgba(0, 0, 0, 0.3));\n",
              "      fill: #FFFFFF;\n",
              "    }\n",
              "  </style>\n",
              "\n",
              "      <script>\n",
              "        const buttonEl =\n",
              "          document.querySelector('#df-2514c4a6-cbf4-4da2-a69c-29f0b150e51b button.colab-df-convert');\n",
              "        buttonEl.style.display =\n",
              "          google.colab.kernel.accessAllowed ? 'block' : 'none';\n",
              "\n",
              "        async function convertToInteractive(key) {\n",
              "          const element = document.querySelector('#df-2514c4a6-cbf4-4da2-a69c-29f0b150e51b');\n",
              "          const dataTable =\n",
              "            await google.colab.kernel.invokeFunction('convertToInteractive',\n",
              "                                                     [key], {});\n",
              "          if (!dataTable) return;\n",
              "\n",
              "          const docLinkHtml = 'Like what you see? Visit the ' +\n",
              "            '<a target=\"_blank\" href=https://colab.research.google.com/notebooks/data_table.ipynb>data table notebook</a>'\n",
              "            + ' to learn more about interactive tables.';\n",
              "          element.innerHTML = '';\n",
              "          dataTable['output_type'] = 'display_data';\n",
              "          await google.colab.output.renderOutput(dataTable, element);\n",
              "          const docLink = document.createElement('div');\n",
              "          docLink.innerHTML = docLinkHtml;\n",
              "          element.appendChild(docLink);\n",
              "        }\n",
              "      </script>\n",
              "    </div>\n",
              "  </div>\n",
              "  "
            ]
          },
          "metadata": {},
          "execution_count": 36
        }
      ]
    },
    {
      "cell_type": "code",
      "source": [
        "stk_df.info()"
      ],
      "metadata": {
        "colab": {
          "base_uri": "https://localhost:8080/"
        },
        "id": "yclNCLqB06zB",
        "outputId": "049236cf-7a71-4493-80b9-4d10a0e1823d"
      },
      "execution_count": 37,
      "outputs": [
        {
          "output_type": "stream",
          "name": "stdout",
          "text": [
            "<class 'pandas.core.frame.DataFrame'>\n",
            "RangeIndex: 2035 entries, 0 to 2034\n",
            "Data columns (total 8 columns):\n",
            " #   Column                Non-Null Count  Dtype  \n",
            "---  ------                --------------  -----  \n",
            " 0   Date                  2035 non-null   object \n",
            " 1   Open                  2035 non-null   float64\n",
            " 2   High                  2035 non-null   float64\n",
            " 3   Low                   2035 non-null   float64\n",
            " 4   Last                  2035 non-null   float64\n",
            " 5   Close                 2035 non-null   float64\n",
            " 6   Total Trade Quantity  2035 non-null   int64  \n",
            " 7   Turnover (Lacs)       2035 non-null   float64\n",
            "dtypes: float64(6), int64(1), object(1)\n",
            "memory usage: 127.3+ KB\n"
          ]
        }
      ]
    },
    {
      "cell_type": "code",
      "source": [
        "stk_df.sort_values(by=\"Date\",inplace=True)"
      ],
      "metadata": {
        "id": "jv9xu4ti063D"
      },
      "execution_count": 38,
      "outputs": []
    },
    {
      "cell_type": "code",
      "source": [
        "stk_df.sort_values(by=\"Date\",inplace=True)\n",
        "stk_df.reset_index(inplace=True)\n",
        "stk_df.head()\n"
      ],
      "metadata": {
        "colab": {
          "base_uri": "https://localhost:8080/",
          "height": 206
        },
        "id": "j9LZAGqp065T",
        "outputId": "67290cc6-9307-4151-faf6-999239cfd276"
      },
      "execution_count": 39,
      "outputs": [
        {
          "output_type": "execute_result",
          "data": {
            "text/plain": [
              "   index        Date   Open    High     Low    Last   Close  \\\n",
              "0   2034  2010-07-21  122.1  123.00  121.05  121.10  121.55   \n",
              "1   2033  2010-07-22  120.3  122.00  120.25  120.75  120.90   \n",
              "2   2032  2010-07-23  121.8  121.95  120.25  120.35  120.65   \n",
              "3   2031  2010-07-26  120.1  121.00  117.10  117.10  117.60   \n",
              "4   2030  2010-07-27  117.6  119.50  112.00  118.80  118.65   \n",
              "\n",
              "   Total Trade Quantity  Turnover (Lacs)  \n",
              "0                658666           803.56  \n",
              "1                293312           355.17  \n",
              "2                281312           340.31  \n",
              "3                658440           780.01  \n",
              "4                586100           694.98  "
            ],
            "text/html": [
              "\n",
              "  <div id=\"df-4c9431e1-e165-414a-a2a4-2d684f82d6b8\">\n",
              "    <div class=\"colab-df-container\">\n",
              "      <div>\n",
              "<style scoped>\n",
              "    .dataframe tbody tr th:only-of-type {\n",
              "        vertical-align: middle;\n",
              "    }\n",
              "\n",
              "    .dataframe tbody tr th {\n",
              "        vertical-align: top;\n",
              "    }\n",
              "\n",
              "    .dataframe thead th {\n",
              "        text-align: right;\n",
              "    }\n",
              "</style>\n",
              "<table border=\"1\" class=\"dataframe\">\n",
              "  <thead>\n",
              "    <tr style=\"text-align: right;\">\n",
              "      <th></th>\n",
              "      <th>index</th>\n",
              "      <th>Date</th>\n",
              "      <th>Open</th>\n",
              "      <th>High</th>\n",
              "      <th>Low</th>\n",
              "      <th>Last</th>\n",
              "      <th>Close</th>\n",
              "      <th>Total Trade Quantity</th>\n",
              "      <th>Turnover (Lacs)</th>\n",
              "    </tr>\n",
              "  </thead>\n",
              "  <tbody>\n",
              "    <tr>\n",
              "      <th>0</th>\n",
              "      <td>2034</td>\n",
              "      <td>2010-07-21</td>\n",
              "      <td>122.1</td>\n",
              "      <td>123.00</td>\n",
              "      <td>121.05</td>\n",
              "      <td>121.10</td>\n",
              "      <td>121.55</td>\n",
              "      <td>658666</td>\n",
              "      <td>803.56</td>\n",
              "    </tr>\n",
              "    <tr>\n",
              "      <th>1</th>\n",
              "      <td>2033</td>\n",
              "      <td>2010-07-22</td>\n",
              "      <td>120.3</td>\n",
              "      <td>122.00</td>\n",
              "      <td>120.25</td>\n",
              "      <td>120.75</td>\n",
              "      <td>120.90</td>\n",
              "      <td>293312</td>\n",
              "      <td>355.17</td>\n",
              "    </tr>\n",
              "    <tr>\n",
              "      <th>2</th>\n",
              "      <td>2032</td>\n",
              "      <td>2010-07-23</td>\n",
              "      <td>121.8</td>\n",
              "      <td>121.95</td>\n",
              "      <td>120.25</td>\n",
              "      <td>120.35</td>\n",
              "      <td>120.65</td>\n",
              "      <td>281312</td>\n",
              "      <td>340.31</td>\n",
              "    </tr>\n",
              "    <tr>\n",
              "      <th>3</th>\n",
              "      <td>2031</td>\n",
              "      <td>2010-07-26</td>\n",
              "      <td>120.1</td>\n",
              "      <td>121.00</td>\n",
              "      <td>117.10</td>\n",
              "      <td>117.10</td>\n",
              "      <td>117.60</td>\n",
              "      <td>658440</td>\n",
              "      <td>780.01</td>\n",
              "    </tr>\n",
              "    <tr>\n",
              "      <th>4</th>\n",
              "      <td>2030</td>\n",
              "      <td>2010-07-27</td>\n",
              "      <td>117.6</td>\n",
              "      <td>119.50</td>\n",
              "      <td>112.00</td>\n",
              "      <td>118.80</td>\n",
              "      <td>118.65</td>\n",
              "      <td>586100</td>\n",
              "      <td>694.98</td>\n",
              "    </tr>\n",
              "  </tbody>\n",
              "</table>\n",
              "</div>\n",
              "      <button class=\"colab-df-convert\" onclick=\"convertToInteractive('df-4c9431e1-e165-414a-a2a4-2d684f82d6b8')\"\n",
              "              title=\"Convert this dataframe to an interactive table.\"\n",
              "              style=\"display:none;\">\n",
              "        \n",
              "  <svg xmlns=\"http://www.w3.org/2000/svg\" height=\"24px\"viewBox=\"0 0 24 24\"\n",
              "       width=\"24px\">\n",
              "    <path d=\"M0 0h24v24H0V0z\" fill=\"none\"/>\n",
              "    <path d=\"M18.56 5.44l.94 2.06.94-2.06 2.06-.94-2.06-.94-.94-2.06-.94 2.06-2.06.94zm-11 1L8.5 8.5l.94-2.06 2.06-.94-2.06-.94L8.5 2.5l-.94 2.06-2.06.94zm10 10l.94 2.06.94-2.06 2.06-.94-2.06-.94-.94-2.06-.94 2.06-2.06.94z\"/><path d=\"M17.41 7.96l-1.37-1.37c-.4-.4-.92-.59-1.43-.59-.52 0-1.04.2-1.43.59L10.3 9.45l-7.72 7.72c-.78.78-.78 2.05 0 2.83L4 21.41c.39.39.9.59 1.41.59.51 0 1.02-.2 1.41-.59l7.78-7.78 2.81-2.81c.8-.78.8-2.07 0-2.86zM5.41 20L4 18.59l7.72-7.72 1.47 1.35L5.41 20z\"/>\n",
              "  </svg>\n",
              "      </button>\n",
              "      \n",
              "  <style>\n",
              "    .colab-df-container {\n",
              "      display:flex;\n",
              "      flex-wrap:wrap;\n",
              "      gap: 12px;\n",
              "    }\n",
              "\n",
              "    .colab-df-convert {\n",
              "      background-color: #E8F0FE;\n",
              "      border: none;\n",
              "      border-radius: 50%;\n",
              "      cursor: pointer;\n",
              "      display: none;\n",
              "      fill: #1967D2;\n",
              "      height: 32px;\n",
              "      padding: 0 0 0 0;\n",
              "      width: 32px;\n",
              "    }\n",
              "\n",
              "    .colab-df-convert:hover {\n",
              "      background-color: #E2EBFA;\n",
              "      box-shadow: 0px 1px 2px rgba(60, 64, 67, 0.3), 0px 1px 3px 1px rgba(60, 64, 67, 0.15);\n",
              "      fill: #174EA6;\n",
              "    }\n",
              "\n",
              "    [theme=dark] .colab-df-convert {\n",
              "      background-color: #3B4455;\n",
              "      fill: #D2E3FC;\n",
              "    }\n",
              "\n",
              "    [theme=dark] .colab-df-convert:hover {\n",
              "      background-color: #434B5C;\n",
              "      box-shadow: 0px 1px 3px 1px rgba(0, 0, 0, 0.15);\n",
              "      filter: drop-shadow(0px 1px 2px rgba(0, 0, 0, 0.3));\n",
              "      fill: #FFFFFF;\n",
              "    }\n",
              "  </style>\n",
              "\n",
              "      <script>\n",
              "        const buttonEl =\n",
              "          document.querySelector('#df-4c9431e1-e165-414a-a2a4-2d684f82d6b8 button.colab-df-convert');\n",
              "        buttonEl.style.display =\n",
              "          google.colab.kernel.accessAllowed ? 'block' : 'none';\n",
              "\n",
              "        async function convertToInteractive(key) {\n",
              "          const element = document.querySelector('#df-4c9431e1-e165-414a-a2a4-2d684f82d6b8');\n",
              "          const dataTable =\n",
              "            await google.colab.kernel.invokeFunction('convertToInteractive',\n",
              "                                                     [key], {});\n",
              "          if (!dataTable) return;\n",
              "\n",
              "          const docLinkHtml = 'Like what you see? Visit the ' +\n",
              "            '<a target=\"_blank\" href=https://colab.research.google.com/notebooks/data_table.ipynb>data table notebook</a>'\n",
              "            + ' to learn more about interactive tables.';\n",
              "          element.innerHTML = '';\n",
              "          dataTable['output_type'] = 'display_data';\n",
              "          await google.colab.output.renderOutput(dataTable, element);\n",
              "          const docLink = document.createElement('div');\n",
              "          docLink.innerHTML = docLinkHtml;\n",
              "          element.appendChild(docLink);\n",
              "        }\n",
              "      </script>\n",
              "    </div>\n",
              "  </div>\n",
              "  "
            ]
          },
          "metadata": {},
          "execution_count": 39
        }
      ]
    },
    {
      "cell_type": "code",
      "source": [
        "df1=stk_df['Close']\n",
        "plt.plot(df1) \n",
        "plt.title(\"Stack Indexed View\")"
      ],
      "metadata": {
        "colab": {
          "base_uri": "https://localhost:8080/",
          "height": 299
        },
        "id": "GNFg1-Kh068w",
        "outputId": "12efb0f8-5226-47ff-b51d-b7ed7e152b36"
      },
      "execution_count": 40,
      "outputs": [
        {
          "output_type": "execute_result",
          "data": {
            "text/plain": [
              "Text(0.5, 1.0, 'Stack Indexed View')"
            ]
          },
          "metadata": {},
          "execution_count": 40
        },
        {
          "output_type": "display_data",
          "data": {
            "text/plain": [
              "<Figure size 432x288 with 1 Axes>"
            ],
            "image/png": "[encoded data removed]"
          },
          "metadata": {
            "needs_background": "light"
          }
        }
      ]
    },
    {
      "cell_type": "code",
      "source": [
        "from sklearn.preprocessing import MinMaxScaler\n",
        "scaler=MinMaxScaler(feature_range=(0,1))\n",
        "df1=scaler.fit_transform(np.array(df1).reshape(-1,1))\n",
        "print(df1)"
      ],
      "metadata": {
        "id": "eFJxfjcC07Ky",
        "colab": {
          "base_uri": "https://localhost:8080/"
        },
        "outputId": "75812f06-adce-4e0d-c0cc-a92d81c7bf22"
      },
      "execution_count": 41,
      "outputs": [
        {
          "output_type": "stream",
          "name": "stdout",
          "text": [
            "[[0.16584967]\n",
            " [0.16319444]\n",
            " [0.1621732 ]\n",
            " ...\n",
            " [0.62622549]\n",
            " [0.62214052]\n",
            " [0.62418301]]\n"
          ]
        }
      ]
    },
    {
      "cell_type": "code",
      "source": [
        "training_size=int(len(df1)*0.70)\n",
        "test_size=len(df1)-training_size\n",
        "train_data,test_data=df1[0:training_size,:],df1[training_size:len(df1),:1]"
      ],
      "metadata": {
        "id": "z4iMSZl207Sz"
      },
      "execution_count": 42,
      "outputs": []
    },
    {
      "cell_type": "code",
      "source": [
        "print(training_size)\n",
        "print(test_size)"
      ],
      "metadata": {
        "id": "343LsDWr07dj",
        "colab": {
          "base_uri": "https://localhost:8080/"
        },
        "outputId": "f951cbe8-507a-4422-e3b5-da48237995bf"
      },
      "execution_count": 43,
      "outputs": [
        {
          "output_type": "stream",
          "name": "stdout",
          "text": [
            "1424\n",
            "611\n"
          ]
        }
      ]
    },
    {
      "cell_type": "code",
      "source": [
        "def create_dataset(dataset, time_step=1):\n",
        "    dataX, dataY = [], []\n",
        "    for i in range(len(dataset)-time_step-1):\n",
        "        a = dataset[i:(i+time_step), 0]   \n",
        "        dataX.append(a)\n",
        "        dataY.append(dataset[i + time_step, 0])\n",
        "    return np.array(dataX), np.array(dataY)"
      ],
      "metadata": {
        "id": "daA3NXS2FboQ"
      },
      "execution_count": 44,
      "outputs": []
    },
    {
      "cell_type": "code",
      "source": [
        "# reshape into X=t,t+1,t+2,t+3 and Y =t+4\n",
        "time_step = 100\n",
        "X_train, y_train = create_dataset(train_data, time_step)\n",
        "X_test, ytest = create_dataset(test_data, time_step)\n",
        "print(X_train.shape), print(y_train.shape)\n",
        "print(X_test.shape), print(ytest.shape)"
      ],
      "metadata": {
        "colab": {
          "base_uri": "https://localhost:8080/"
        },
        "id": "RrLQvKGHFbkt",
        "outputId": "7fc1cbf4-b36f-44b2-f7f2-7e03abb0d1ad"
      },
      "execution_count": 45,
      "outputs": [
        {
          "output_type": "stream",
          "name": "stdout",
          "text": [
            "(1323, 100)\n",
            "(1323,)\n",
            "(510, 100)\n",
            "(510,)\n"
          ]
        },
        {
          "output_type": "execute_result",
          "data": {
            "text/plain": [
              "(None, None)"
            ]
          },
          "metadata": {},
          "execution_count": 45
        }
      ]
    },
    {
      "cell_type": "code",
      "source": [
        "from tensorflow.keras.models import Sequential\n",
        "from tensorflow.keras.layers import Dense\n",
        "from tensorflow.keras.layers import LSTM\n",
        "model=Sequential()\n",
        "model.add(LSTM(50,return_sequences=True,input_shape=(100,1)))\n",
        "model.add(LSTM(50,return_sequences=True))\n",
        "model.add(LSTM(50))\n",
        "model.add(Dense(1))\n",
        "model.compile(loss='mean_squared_error',optimizer='adam')\n",
        "model.summary()"
      ],
      "metadata": {
        "colab": {
          "base_uri": "https://localhost:8080/"
        },
        "id": "77G_khEgFbgE",
        "outputId": "27a4d111-b4d4-49a1-938a-b49d2600c12a"
      },
      "execution_count": 46,
      "outputs": [
        {
          "output_type": "stream",
          "name": "stdout",
          "text": [
            "Model: \"sequential_2\"\n",
            "_________________________________________________________________\n",
            " Layer (type)                Output Shape              Param #   \n",
            "=================================================================\n",
            " lstm_6 (LSTM)               (None, 100, 50)           10400     \n",
            "                                                                 \n",
            " lstm_7 (LSTM)               (None, 100, 50)           20200     \n",
            "                                                                 \n",
            " lstm_8 (LSTM)               (None, 50)                20200     \n",
            "                                                                 \n",
            " dense_2 (Dense)             (None, 1)                 51        \n",
            "                                                                 \n",
            "=================================================================\n",
            "Total params: 50,851\n",
            "Trainable params: 50,851\n",
            "Non-trainable params: 0\n",
            "_________________________________________________________________\n"
          ]
        }
      ]
    },
    {
      "cell_type": "code",
      "source": [
        "model.fit(X_train,y_train,validation_split=0.1,epochs=60,batch_size=64,verbose=1)"
      ],
      "metadata": {
        "colab": {
          "base_uri": "https://localhost:8080/"
        },
        "id": "SA5fheZVFbcy",
        "outputId": "715f6b01-23f5-49f3-9b91-805150524a69"
      },
      "execution_count": 47,
      "outputs": [
        {
          "output_type": "stream",
          "name": "stdout",
          "text": [
            "Epoch 1/60\n",
            "19/19 [==============================] - 17s 257ms/step - loss: 0.0143 - val_loss: 0.0018\n",
            "Epoch 2/60\n",
            "19/19 [==============================] - 4s 186ms/step - loss: 0.0023 - val_loss: 0.0012\n",
            "Epoch 3/60\n",
            "19/19 [==============================] - 4s 185ms/step - loss: 9.8337e-04 - val_loss: 0.0013\n",
            "Epoch 4/60\n",
            "19/19 [==============================] - 4s 188ms/step - loss: 8.7366e-04 - val_loss: 0.0012\n",
            "Epoch 5/60\n",
            "19/19 [==============================] - 3s 184ms/step - loss: 8.3909e-04 - val_loss: 0.0012\n",
            "Epoch 6/60\n",
            "19/19 [==============================] - 4s 187ms/step - loss: 8.5943e-04 - val_loss: 0.0011\n",
            "Epoch 7/60\n",
            "19/19 [==============================] - 4s 187ms/step - loss: 8.0169e-04 - val_loss: 0.0011\n",
            "Epoch 8/60\n",
            "19/19 [==============================] - 4s 189ms/step - loss: 7.7177e-04 - val_loss: 0.0011\n",
            "Epoch 9/60\n",
            "19/19 [==============================] - 4s 186ms/step - loss: 7.5186e-04 - val_loss: 0.0011\n",
            "Epoch 10/60\n",
            "19/19 [==============================] - 4s 186ms/step - loss: 7.4320e-04 - val_loss: 9.4592e-04\n",
            "Epoch 11/60\n",
            "19/19 [==============================] - 4s 185ms/step - loss: 7.0479e-04 - val_loss: 9.4271e-04\n",
            "Epoch 12/60\n",
            "19/19 [==============================] - 4s 186ms/step - loss: 6.9123e-04 - val_loss: 9.0924e-04\n",
            "Epoch 13/60\n",
            "19/19 [==============================] - 4s 202ms/step - loss: 7.1007e-04 - val_loss: 9.0608e-04\n",
            "Epoch 14/60\n",
            "19/19 [==============================] - 5s 258ms/step - loss: 7.1045e-04 - val_loss: 7.7227e-04\n",
            "Epoch 15/60\n",
            "19/19 [==============================] - 4s 190ms/step - loss: 6.5164e-04 - val_loss: 7.6498e-04\n",
            "Epoch 16/60\n",
            "19/19 [==============================] - 4s 188ms/step - loss: 6.2032e-04 - val_loss: 7.3512e-04\n",
            "Epoch 17/60\n",
            "19/19 [==============================] - 4s 187ms/step - loss: 6.0111e-04 - val_loss: 6.9597e-04\n",
            "Epoch 18/60\n",
            "19/19 [==============================] - 4s 188ms/step - loss: 6.3842e-04 - val_loss: 7.6849e-04\n",
            "Epoch 19/60\n",
            "19/19 [==============================] - 4s 186ms/step - loss: 5.9831e-04 - val_loss: 6.9165e-04\n",
            "Epoch 20/60\n",
            "19/19 [==============================] - 4s 189ms/step - loss: 5.6998e-04 - val_loss: 6.4968e-04\n",
            "Epoch 21/60\n",
            "19/19 [==============================] - 4s 187ms/step - loss: 5.4613e-04 - val_loss: 6.7592e-04\n",
            "Epoch 22/60\n",
            "19/19 [==============================] - 4s 187ms/step - loss: 5.2874e-04 - val_loss: 5.5990e-04\n",
            "Epoch 23/60\n",
            "19/19 [==============================] - 4s 188ms/step - loss: 5.2633e-04 - val_loss: 6.4572e-04\n",
            "Epoch 24/60\n",
            "19/19 [==============================] - 4s 196ms/step - loss: 5.1286e-04 - val_loss: 5.7013e-04\n",
            "Epoch 25/60\n",
            "19/19 [==============================] - 5s 220ms/step - loss: 5.1016e-04 - val_loss: 5.0890e-04\n",
            "Epoch 26/60\n",
            "19/19 [==============================] - 4s 187ms/step - loss: 4.8038e-04 - val_loss: 5.0053e-04\n",
            "Epoch 27/60\n",
            "19/19 [==============================] - 4s 189ms/step - loss: 4.6831e-04 - val_loss: 5.0454e-04\n",
            "Epoch 28/60\n",
            "19/19 [==============================] - 4s 189ms/step - loss: 4.5168e-04 - val_loss: 4.5203e-04\n",
            "Epoch 29/60\n",
            "19/19 [==============================] - 4s 186ms/step - loss: 4.4436e-04 - val_loss: 5.9880e-04\n",
            "Epoch 30/60\n",
            "19/19 [==============================] - 4s 189ms/step - loss: 4.4066e-04 - val_loss: 4.6698e-04\n",
            "Epoch 31/60\n",
            "19/19 [==============================] - 4s 187ms/step - loss: 4.5890e-04 - val_loss: 4.6780e-04\n",
            "Epoch 32/60\n",
            "19/19 [==============================] - 5s 285ms/step - loss: 5.9699e-04 - val_loss: 4.1452e-04\n",
            "Epoch 33/60\n",
            "19/19 [==============================] - 4s 188ms/step - loss: 3.9130e-04 - val_loss: 3.8279e-04\n",
            "Epoch 34/60\n",
            "19/19 [==============================] - 4s 188ms/step - loss: 3.7310e-04 - val_loss: 3.7176e-04\n",
            "Epoch 35/60\n",
            "19/19 [==============================] - 4s 189ms/step - loss: 3.6535e-04 - val_loss: 4.2427e-04\n",
            "Epoch 36/60\n",
            "19/19 [==============================] - 4s 189ms/step - loss: 3.6375e-04 - val_loss: 3.9816e-04\n",
            "Epoch 37/60\n",
            "19/19 [==============================] - 4s 187ms/step - loss: 3.4425e-04 - val_loss: 3.9686e-04\n",
            "Epoch 38/60\n",
            "19/19 [==============================] - 4s 189ms/step - loss: 3.4814e-04 - val_loss: 3.2520e-04\n",
            "Epoch 39/60\n",
            "19/19 [==============================] - 4s 189ms/step - loss: 3.3097e-04 - val_loss: 3.1236e-04\n",
            "Epoch 40/60\n",
            "19/19 [==============================] - 4s 187ms/step - loss: 3.1967e-04 - val_loss: 3.1901e-04\n",
            "Epoch 41/60\n",
            "19/19 [==============================] - 4s 189ms/step - loss: 3.1106e-04 - val_loss: 3.0599e-04\n",
            "Epoch 42/60\n",
            "19/19 [==============================] - 4s 186ms/step - loss: 3.0726e-04 - val_loss: 2.7416e-04\n",
            "Epoch 43/60\n",
            "19/19 [==============================] - 4s 185ms/step - loss: 2.9166e-04 - val_loss: 2.6931e-04\n",
            "Epoch 44/60\n",
            "19/19 [==============================] - 4s 188ms/step - loss: 2.8035e-04 - val_loss: 2.8042e-04\n",
            "Epoch 45/60\n",
            "19/19 [==============================] - 4s 188ms/step - loss: 2.9098e-04 - val_loss: 2.5122e-04\n",
            "Epoch 46/60\n",
            "19/19 [==============================] - 4s 188ms/step - loss: 2.8168e-04 - val_loss: 2.6843e-04\n",
            "Epoch 47/60\n",
            "19/19 [==============================] - 4s 188ms/step - loss: 2.6797e-04 - val_loss: 2.2930e-04\n",
            "Epoch 48/60\n",
            "19/19 [==============================] - 4s 213ms/step - loss: 2.5134e-04 - val_loss: 2.2178e-04\n",
            "Epoch 49/60\n",
            "19/19 [==============================] - 5s 256ms/step - loss: 2.4701e-04 - val_loss: 2.2114e-04\n",
            "Epoch 50/60\n",
            "19/19 [==============================] - 4s 187ms/step - loss: 2.4606e-04 - val_loss: 2.9085e-04\n",
            "Epoch 51/60\n",
            "19/19 [==============================] - 4s 187ms/step - loss: 2.8807e-04 - val_loss: 3.0296e-04\n",
            "Epoch 52/60\n",
            "19/19 [==============================] - 4s 187ms/step - loss: 2.4544e-04 - val_loss: 2.1166e-04\n",
            "Epoch 53/60\n",
            "19/19 [==============================] - 4s 186ms/step - loss: 2.3708e-04 - val_loss: 1.9943e-04\n",
            "Epoch 54/60\n",
            "19/19 [==============================] - 4s 186ms/step - loss: 2.3687e-04 - val_loss: 2.0001e-04\n",
            "Epoch 55/60\n",
            "19/19 [==============================] - 4s 187ms/step - loss: 2.3117e-04 - val_loss: 1.9549e-04\n",
            "Epoch 56/60\n",
            "19/19 [==============================] - 4s 188ms/step - loss: 2.2861e-04 - val_loss: 1.9349e-04\n",
            "Epoch 57/60\n",
            "19/19 [==============================] - 4s 186ms/step - loss: 2.2541e-04 - val_loss: 2.6233e-04\n",
            "Epoch 58/60\n",
            "19/19 [==============================] - 4s 187ms/step - loss: 2.4422e-04 - val_loss: 2.4520e-04\n",
            "Epoch 59/60\n",
            "19/19 [==============================] - 4s 187ms/step - loss: 2.3615e-04 - val_loss: 1.7588e-04\n",
            "Epoch 60/60\n",
            "19/19 [==============================] - 4s 188ms/step - loss: 1.9757e-04 - val_loss: 1.8228e-04\n"
          ]
        },
        {
          "output_type": "execute_result",
          "data": {
            "text/plain": [
              "<keras.callbacks.History at 0x7fdf57145990>"
            ]
          },
          "metadata": {},
          "execution_count": 47
        }
      ]
    },
    {
      "cell_type": "code",
      "source": [
        "model.fit(X_train,y_train,validation_split=0.1,epochs=60,batch_size=64,verbose=1)"
      ],
      "metadata": {
        "colab": {
          "base_uri": "https://localhost:8080/"
        },
        "id": "--OC_EENFbZ2",
        "outputId": "8d0b8eab-57fa-460b-d243-b9fad98e0a01"
      },
      "execution_count": 48,
      "outputs": [
        {
          "output_type": "stream",
          "name": "stdout",
          "text": [
            "Epoch 1/60\n",
            "19/19 [==============================] - 4s 190ms/step - loss: 1.9053e-04 - val_loss: 1.7277e-04\n",
            "Epoch 2/60\n",
            "19/19 [==============================] - 4s 188ms/step - loss: 1.8989e-04 - val_loss: 1.6720e-04\n",
            "Epoch 3/60\n",
            "19/19 [==============================] - 4s 186ms/step - loss: 1.7984e-04 - val_loss: 1.5707e-04\n",
            "Epoch 4/60\n",
            "19/19 [==============================] - 4s 188ms/step - loss: 1.7902e-04 - val_loss: 1.6987e-04\n",
            "Epoch 5/60\n",
            "19/19 [==============================] - 4s 188ms/step - loss: 1.8237e-04 - val_loss: 1.7118e-04\n",
            "Epoch 6/60\n",
            "19/19 [==============================] - 4s 188ms/step - loss: 1.8456e-04 - val_loss: 1.6188e-04\n",
            "Epoch 7/60\n",
            "19/19 [==============================] - 4s 189ms/step - loss: 1.8404e-04 - val_loss: 1.6928e-04\n",
            "Epoch 8/60\n",
            "19/19 [==============================] - 4s 189ms/step - loss: 1.7729e-04 - val_loss: 2.3877e-04\n",
            "Epoch 9/60\n",
            "19/19 [==============================] - 4s 188ms/step - loss: 1.9203e-04 - val_loss: 1.4251e-04\n",
            "Epoch 10/60\n",
            "19/19 [==============================] - 4s 191ms/step - loss: 1.6593e-04 - val_loss: 1.5843e-04\n",
            "Epoch 11/60\n",
            "19/19 [==============================] - 4s 187ms/step - loss: 1.6255e-04 - val_loss: 1.4507e-04\n",
            "Epoch 12/60\n",
            "19/19 [==============================] - 4s 187ms/step - loss: 1.5923e-04 - val_loss: 1.3643e-04\n",
            "Epoch 13/60\n",
            "19/19 [==============================] - 5s 283ms/step - loss: 1.6352e-04 - val_loss: 1.3541e-04\n",
            "Epoch 14/60\n",
            "19/19 [==============================] - 4s 186ms/step - loss: 1.5716e-04 - val_loss: 1.3225e-04\n",
            "Epoch 15/60\n",
            "19/19 [==============================] - 4s 188ms/step - loss: 1.7505e-04 - val_loss: 1.3829e-04\n",
            "Epoch 16/60\n",
            "19/19 [==============================] - 4s 188ms/step - loss: 2.0268e-04 - val_loss: 1.3395e-04\n",
            "Epoch 17/60\n",
            "19/19 [==============================] - 4s 187ms/step - loss: 1.6623e-04 - val_loss: 1.3277e-04\n",
            "Epoch 18/60\n",
            "19/19 [==============================] - 4s 187ms/step - loss: 1.7157e-04 - val_loss: 1.9982e-04\n",
            "Epoch 19/60\n",
            "19/19 [==============================] - 4s 187ms/step - loss: 1.6338e-04 - val_loss: 1.2907e-04\n",
            "Epoch 20/60\n",
            "19/19 [==============================] - 4s 188ms/step - loss: 1.4968e-04 - val_loss: 1.3816e-04\n",
            "Epoch 21/60\n",
            "19/19 [==============================] - 4s 187ms/step - loss: 1.4947e-04 - val_loss: 1.2464e-04\n",
            "Epoch 22/60\n",
            "19/19 [==============================] - 4s 188ms/step - loss: 1.4674e-04 - val_loss: 1.2365e-04\n",
            "Epoch 23/60\n",
            "19/19 [==============================] - 4s 190ms/step - loss: 1.3914e-04 - val_loss: 1.2391e-04\n",
            "Epoch 24/60\n",
            "19/19 [==============================] - 4s 187ms/step - loss: 1.4263e-04 - val_loss: 1.2267e-04\n",
            "Epoch 25/60\n",
            "19/19 [==============================] - 4s 190ms/step - loss: 1.7718e-04 - val_loss: 1.2419e-04\n",
            "Epoch 26/60\n",
            "19/19 [==============================] - 4s 188ms/step - loss: 1.5975e-04 - val_loss: 1.2622e-04\n",
            "Epoch 27/60\n",
            "19/19 [==============================] - 4s 187ms/step - loss: 1.4402e-04 - val_loss: 1.2432e-04\n",
            "Epoch 28/60\n",
            "19/19 [==============================] - 4s 188ms/step - loss: 1.3950e-04 - val_loss: 1.3029e-04\n",
            "Epoch 29/60\n",
            "19/19 [==============================] - 4s 188ms/step - loss: 1.3532e-04 - val_loss: 1.2326e-04\n",
            "Epoch 30/60\n",
            "19/19 [==============================] - 4s 186ms/step - loss: 1.4957e-04 - val_loss: 1.5054e-04\n",
            "Epoch 31/60\n",
            "19/19 [==============================] - 4s 188ms/step - loss: 1.4365e-04 - val_loss: 1.1943e-04\n",
            "Epoch 32/60\n",
            "19/19 [==============================] - 5s 283ms/step - loss: 1.4761e-04 - val_loss: 1.2789e-04\n",
            "Epoch 33/60\n",
            "19/19 [==============================] - 4s 189ms/step - loss: 1.5054e-04 - val_loss: 1.1762e-04\n",
            "Epoch 34/60\n",
            "19/19 [==============================] - 4s 186ms/step - loss: 1.5655e-04 - val_loss: 1.2296e-04\n",
            "Epoch 35/60\n",
            "19/19 [==============================] - 4s 187ms/step - loss: 1.3266e-04 - val_loss: 1.1965e-04\n",
            "Epoch 36/60\n",
            "19/19 [==============================] - 4s 191ms/step - loss: 1.5080e-04 - val_loss: 1.3117e-04\n",
            "Epoch 37/60\n",
            "19/19 [==============================] - 4s 192ms/step - loss: 1.3832e-04 - val_loss: 1.2699e-04\n",
            "Epoch 38/60\n",
            "19/19 [==============================] - 4s 189ms/step - loss: 1.3610e-04 - val_loss: 1.1730e-04\n",
            "Epoch 39/60\n",
            "19/19 [==============================] - 4s 192ms/step - loss: 1.3160e-04 - val_loss: 1.1962e-04\n",
            "Epoch 40/60\n",
            "19/19 [==============================] - 4s 188ms/step - loss: 1.4244e-04 - val_loss: 1.8319e-04\n",
            "Epoch 41/60\n",
            "19/19 [==============================] - 4s 190ms/step - loss: 1.3561e-04 - val_loss: 1.2355e-04\n",
            "Epoch 42/60\n",
            "19/19 [==============================] - 4s 191ms/step - loss: 1.3550e-04 - val_loss: 1.1928e-04\n",
            "Epoch 43/60\n",
            "19/19 [==============================] - 4s 194ms/step - loss: 1.3444e-04 - val_loss: 1.1401e-04\n",
            "Epoch 44/60\n",
            "19/19 [==============================] - 4s 191ms/step - loss: 1.4358e-04 - val_loss: 1.1734e-04\n",
            "Epoch 45/60\n",
            "19/19 [==============================] - 4s 188ms/step - loss: 1.5518e-04 - val_loss: 1.5871e-04\n",
            "Epoch 46/60\n",
            "19/19 [==============================] - 4s 188ms/step - loss: 1.4568e-04 - val_loss: 1.3695e-04\n",
            "Epoch 47/60\n",
            "19/19 [==============================] - 4s 192ms/step - loss: 1.3930e-04 - val_loss: 1.1700e-04\n",
            "Epoch 48/60\n",
            "19/19 [==============================] - 5s 293ms/step - loss: 1.3716e-04 - val_loss: 1.1677e-04\n",
            "Epoch 49/60\n",
            "19/19 [==============================] - 4s 196ms/step - loss: 1.3109e-04 - val_loss: 1.2491e-04\n",
            "Epoch 50/60\n",
            "19/19 [==============================] - 4s 195ms/step - loss: 1.4826e-04 - val_loss: 1.2674e-04\n",
            "Epoch 51/60\n",
            "19/19 [==============================] - 4s 194ms/step - loss: 1.4069e-04 - val_loss: 1.1934e-04\n",
            "Epoch 52/60\n",
            "19/19 [==============================] - 4s 193ms/step - loss: 1.4460e-04 - val_loss: 1.3539e-04\n",
            "Epoch 53/60\n",
            "19/19 [==============================] - 4s 191ms/step - loss: 1.3785e-04 - val_loss: 1.4596e-04\n",
            "Epoch 54/60\n",
            "19/19 [==============================] - 4s 189ms/step - loss: 1.3508e-04 - val_loss: 1.1376e-04\n",
            "Epoch 55/60\n",
            "19/19 [==============================] - 4s 195ms/step - loss: 1.3817e-04 - val_loss: 1.1654e-04\n",
            "Epoch 56/60\n",
            "19/19 [==============================] - 4s 191ms/step - loss: 1.4130e-04 - val_loss: 1.1831e-04\n",
            "Epoch 57/60\n",
            "19/19 [==============================] - 4s 189ms/step - loss: 1.3931e-04 - val_loss: 1.7861e-04\n",
            "Epoch 58/60\n",
            "19/19 [==============================] - 4s 193ms/step - loss: 1.5059e-04 - val_loss: 1.3285e-04\n",
            "Epoch 59/60\n",
            "19/19 [==============================] - 4s 197ms/step - loss: 1.4302e-04 - val_loss: 1.1453e-04\n",
            "Epoch 60/60\n",
            "19/19 [==============================] - 4s 192ms/step - loss: 1.3021e-04 - val_loss: 1.1608e-04\n"
          ]
        },
        {
          "output_type": "execute_result",
          "data": {
            "text/plain": [
              "<keras.callbacks.History at 0x7fdf50ceef10>"
            ]
          },
          "metadata": {},
          "execution_count": 48
        }
      ]
    }
  ]
}